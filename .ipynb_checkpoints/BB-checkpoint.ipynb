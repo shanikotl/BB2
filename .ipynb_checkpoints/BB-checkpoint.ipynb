{
 "cells": [
  {
   "cell_type": "code",
   "execution_count": null,
   "metadata": {},
   "outputs": [],
   "source": [
    "from CONFIG import *\n",
    "from state_obj import *\n",
    "from system_dynamics import *\n",
    "from processing import *"
   ]
  },
  {
   "cell_type": "code",
   "execution_count": null,
   "metadata": {},
   "outputs": [],
   "source": [
    "cur_state = get_first_state()"
   ]
  },
  {
   "cell_type": "code",
   "execution_count": null,
   "metadata": {},
   "outputs": [],
   "source": []
  },
  {
   "cell_type": "code",
   "execution_count": 5,
   "metadata": {},
   "outputs": [
    {
     "data": {
      "text/plain": [
       "{0: {'item_location': 1, 'item_name': 'I1'},\n",
       " 1: {'item_location': 2, 'item_name': 'I3'},\n",
       " 2: {'item_location': 5, 'item_name': 'I3'},\n",
       " 3: {'item_location': 11, 'item_name': 'I2'},\n",
       " 4: {'item_location': 30, 'item_name': 'I1'}}"
      ]
     },
     "execution_count": 5,
     "metadata": {},
     "output_type": "execute_result"
    }
   ],
   "source": [
    "items_prod_line, items_in_queue = init_production_line()\n",
    "first_state = State(items_prod_line, items_in_queue)\n",
    "CT = first_state.get_cycle_time()\n",
    "items_prod_line"
   ]
  },
  {
   "cell_type": "code",
   "execution_count": null,
   "metadata": {},
   "outputs": [],
   "source": [
    "items_prod_line"
   ]
  },
  {
   "cell_type": "code",
   "execution_count": 13,
   "metadata": {},
   "outputs": [
    {
     "name": "stdout",
     "output_type": "stream",
     "text": [
      "cycle_time is 0, worker index: 4, curr_x_location - 1.002 and worker_new_loc 40.44 \n",
      "cycle_time is 0, worker index: 3, curr_x_location - 0.415 and worker_new_loc 16.8 \n",
      "cycle_time is 0, worker index: 2, curr_x_location - 0.237 and worker_new_loc 9.64 \n",
      "cycle_time is 0, worker index: 1, curr_x_location - 0.078 and worker_new_loc 3.16 \n",
      "cycle_time is 0, worker index: 0, curr_x_location - 0.097 and worker_new_loc 4.12 \n",
      "work  0 is blocked.. \n",
      "cycle_time is 0.01, worker index: 4, curr_x_location - 1.011 and worker_new_loc 40.8 \n",
      "cycle_time is 0.01, worker index: 3, curr_x_location - 0.42 and worker_new_loc 17.0 \n",
      "cycle_time is 0.01, worker index: 2, curr_x_location - 0.241 and worker_new_loc 9.8 \n",
      "cycle_time is 0.01, worker index: 1, curr_x_location - 0.079 and worker_new_loc 3.2 \n",
      "cycle_time is 0.01, worker index: 0, curr_x_location - 0.097 and worker_new_loc 4.12 \n",
      "work  0 is blocked.. \n",
      "cycle_time is 0.02, worker index: 4, curr_x_location - 1.02 and worker_new_loc 41.16 \n",
      "cycle_time is 0.02, worker index: 3, curr_x_location - 0.425 and worker_new_loc 17.2 \n",
      "cycle_time is 0.02, worker index: 2, curr_x_location - 0.245 and worker_new_loc 9.96 \n",
      "cycle_time is 0.02, worker index: 1, curr_x_location - 0.08 and worker_new_loc 3.24 \n",
      "cycle_time is 0.02, worker index: 0, curr_x_location - 0.097 and worker_new_loc 4.12 \n",
      "work  0 is blocked.. \n",
      "cycle_time is 0.03, worker index: 4, curr_x_location - 1.029 and worker_new_loc 41.52 \n",
      "cycle_time is 0.03, worker index: 3, curr_x_location - 0.43 and worker_new_loc 17.4 \n",
      "cycle_time is 0.03, worker index: 2, curr_x_location - 0.249 and worker_new_loc 10.12 \n",
      "cycle_time is 0.03, worker index: 1, curr_x_location - 0.081 and worker_new_loc 3.28 \n",
      "cycle_time is 0.03, worker index: 0, curr_x_location - 0.097 and worker_new_loc 4.12 \n",
      "work  0 is blocked.. \n",
      "cycle_time is 0.04, worker index: 4, curr_x_location - 1.038 and worker_new_loc 41.88 \n",
      "cycle_time is 0.04, worker index: 3, curr_x_location - 0.435 and worker_new_loc 17.6 \n",
      "cycle_time is 0.04, worker index: 2, curr_x_location - 0.253 and worker_new_loc 10.28 \n",
      "cycle_time is 0.04, worker index: 1, curr_x_location - 0.082 and worker_new_loc 3.32 \n",
      "cycle_time is 0.04, worker index: 0, curr_x_location - 0.097 and worker_new_loc 4.12 \n",
      "work  0 is blocked.. \n",
      "cycle_time is 0.05, worker index: 4, curr_x_location - 1.047 and worker_new_loc 42.24 \n",
      "cycle_time is 0.05, worker index: 3, curr_x_location - 0.44 and worker_new_loc 17.8 \n",
      "cycle_time is 0.05, worker index: 2, curr_x_location - 0.257 and worker_new_loc 10.44 \n",
      "cycle_time is 0.05, worker index: 1, curr_x_location - 0.083 and worker_new_loc 3.36 \n",
      "cycle_time is 0.05, worker index: 0, curr_x_location - 0.097 and worker_new_loc 4.12 \n",
      "work  0 is blocked.. \n",
      "cycle_time is 0.06, worker index: 4, curr_x_location - 1.056 and worker_new_loc 42.6 \n",
      "cycle_time is 0.06, worker index: 3, curr_x_location - 0.445 and worker_new_loc 18.0 \n",
      "cycle_time is 0.06, worker index: 2, curr_x_location - 0.261 and worker_new_loc 10.6 \n",
      "cycle_time is 0.06, worker index: 1, curr_x_location - 0.084 and worker_new_loc 3.4 \n",
      "cycle_time is 0.06, worker index: 0, curr_x_location - 0.097 and worker_new_loc 4.12 \n",
      "work  0 is blocked.. \n",
      "cycle_time is 0.07, worker index: 4, curr_x_location - 1.065 and worker_new_loc 42.96 \n",
      "cycle_time is 0.07, worker index: 3, curr_x_location - 0.45 and worker_new_loc 18.2 \n",
      "cycle_time is 0.07, worker index: 2, curr_x_location - 0.265 and worker_new_loc 10.76 \n",
      "cycle_time is 0.07, worker index: 1, curr_x_location - 0.085 and worker_new_loc 3.44 \n",
      "cycle_time is 0.07, worker index: 0, curr_x_location - 0.097 and worker_new_loc 4.12 \n",
      "work  0 is blocked.. \n",
      "cycle_time is 0.08, worker index: 4, curr_x_location - 1.074 and worker_new_loc 43.32 \n",
      "cycle_time is 0.08, worker index: 3, curr_x_location - 0.455 and worker_new_loc 18.4 \n",
      "cycle_time is 0.08, worker index: 2, curr_x_location - 0.269 and worker_new_loc 10.92 \n",
      "cycle_time is 0.08, worker index: 1, curr_x_location - 0.086 and worker_new_loc 3.48 \n",
      "cycle_time is 0.08, worker index: 0, curr_x_location - 0.097 and worker_new_loc 4.12 \n",
      "work  0 is blocked.. \n",
      "cycle_time is 0.09, worker index: 4, curr_x_location - 1.083 and worker_new_loc 43.68 \n",
      "cycle_time is 0.09, worker index: 3, curr_x_location - 0.46 and worker_new_loc 18.6 \n",
      "cycle_time is 0.09, worker index: 2, curr_x_location - 0.273 and worker_new_loc 11.08 \n",
      "cycle_time is 0.09, worker index: 1, curr_x_location - 0.087 and worker_new_loc 3.52 \n",
      "cycle_time is 0.09, worker index: 0, curr_x_location - 0.097 and worker_new_loc 4.12 \n",
      "work  0 is blocked.. \n",
      "cycle_time is 0.1, worker index: 4, curr_x_location - 1.092 and worker_new_loc 44.04 \n",
      "cycle_time is 0.1, worker index: 3, curr_x_location - 0.465 and worker_new_loc 18.8 \n",
      "cycle_time is 0.1, worker index: 2, curr_x_location - 0.277 and worker_new_loc 11.24 \n",
      "cycle_time is 0.1, worker index: 1, curr_x_location - 0.088 and worker_new_loc 3.56 \n",
      "cycle_time is 0.1, worker index: 0, curr_x_location - 0.097 and worker_new_loc 4.12 \n",
      "work  0 is blocked.. \n",
      "cycle_time is 0.11, worker index: 4, curr_x_location - 1.101 and worker_new_loc 44.4 \n",
      "cycle_time is 0.11, worker index: 3, curr_x_location - 0.47 and worker_new_loc 19.0 \n",
      "cycle_time is 0.11, worker index: 2, curr_x_location - 0.281 and worker_new_loc 11.4 \n",
      "cycle_time is 0.11, worker index: 1, curr_x_location - 0.089 and worker_new_loc 3.6 \n",
      "cycle_time is 0.11, worker index: 0, curr_x_location - 0.097 and worker_new_loc 4.12 \n",
      "work  0 is blocked.. \n",
      "cycle_time is 0.12, worker index: 4, curr_x_location - 1.11 and worker_new_loc 44.76 \n",
      "cycle_time is 0.12, worker index: 3, curr_x_location - 0.475 and worker_new_loc 19.2 \n",
      "cycle_time is 0.12, worker index: 2, curr_x_location - 0.285 and worker_new_loc 11.56 \n",
      "cycle_time is 0.12, worker index: 1, curr_x_location - 0.09 and worker_new_loc 3.64 \n",
      "cycle_time is 0.12, worker index: 0, curr_x_location - 0.097 and worker_new_loc 4.12 \n",
      "work  0 is blocked.. \n",
      "cycle_time is 0.13, worker index: 4, curr_x_location - 1.119 and worker_new_loc 45.12 \n",
      "cycle_time is 0.13, worker index: 3, curr_x_location - 0.48 and worker_new_loc 19.4 \n",
      "cycle_time is 0.13, worker index: 2, curr_x_location - 0.289 and worker_new_loc 11.72 \n",
      "cycle_time is 0.13, worker index: 1, curr_x_location - 0.091 and worker_new_loc 3.68 \n",
      "cycle_time is 0.13, worker index: 0, curr_x_location - 0.097 and worker_new_loc 4.12 \n",
      "work  0 is blocked.. \n",
      "cycle_time is 0.14, worker index: 4, curr_x_location - 1.128 and worker_new_loc 45.48 \n",
      "cycle_time is 0.14, worker index: 3, curr_x_location - 0.485 and worker_new_loc 19.6 \n",
      "cycle_time is 0.14, worker index: 2, curr_x_location - 0.293 and worker_new_loc 11.88 \n",
      "cycle_time is 0.14, worker index: 1, curr_x_location - 0.092 and worker_new_loc 3.72 \n",
      "cycle_time is 0.14, worker index: 0, curr_x_location - 0.097 and worker_new_loc 4.12 \n",
      "work  0 is blocked.. \n",
      "cycle_time is 0.15, worker index: 4, curr_x_location - 1.137 and worker_new_loc 45.84 \n",
      "cycle_time is 0.15, worker index: 3, curr_x_location - 0.49 and worker_new_loc 19.8 \n",
      "cycle_time is 0.15, worker index: 2, curr_x_location - 0.297 and worker_new_loc 12.04 \n",
      "cycle_time is 0.15, worker index: 1, curr_x_location - 0.093 and worker_new_loc 3.76 \n",
      "cycle_time is 0.15, worker index: 0, curr_x_location - 0.097 and worker_new_loc 4.12 \n",
      "work  0 is blocked.. \n",
      "cycle_time is 0.16, worker index: 4, curr_x_location - 1.146 and worker_new_loc 46.2 \n",
      "cycle_time is 0.16, worker index: 3, curr_x_location - 0.495 and worker_new_loc 20.0 \n",
      "cycle_time is 0.16, worker index: 2, curr_x_location - 0.301 and worker_new_loc 12.2 \n",
      "cycle_time is 0.16, worker index: 1, curr_x_location - 0.094 and worker_new_loc 3.8 \n",
      "cycle_time is 0.16, worker index: 0, curr_x_location - 0.097 and worker_new_loc 4.12 \n",
      "work  0 is blocked.. \n",
      "cycle_time is 0.17, worker index: 4, curr_x_location - 1.155 and worker_new_loc 46.56 \n",
      "cycle_time is 0.17, worker index: 3, curr_x_location - 0.5 and worker_new_loc 20.2 \n",
      "cycle_time is 0.17, worker index: 2, curr_x_location - 0.305 and worker_new_loc 12.36 \n",
      "cycle_time is 0.17, worker index: 1, curr_x_location - 0.095 and worker_new_loc 3.84 \n",
      "cycle_time is 0.17, worker index: 0, curr_x_location - 0.097 and worker_new_loc 4.12 \n",
      "work  0 is blocked.. \n",
      "cycle_time is 0.18, worker index: 4, curr_x_location - 1.164 and worker_new_loc 46.92 \n",
      "cycle_time is 0.18, worker index: 3, curr_x_location - 0.505 and worker_new_loc 20.4 \n",
      "cycle_time is 0.18, worker index: 2, curr_x_location - 0.309 and worker_new_loc 12.52 \n",
      "cycle_time is 0.18, worker index: 1, curr_x_location - 0.096 and worker_new_loc 3.88 \n",
      "cycle_time is 0.18, worker index: 0, curr_x_location - 0.097 and worker_new_loc 4.12 \n",
      "work  0 is blocked.. \n",
      "cycle_time is 0.19, worker index: 4, curr_x_location - 1.173 and worker_new_loc 47.28 \n",
      "cycle_time is 0.19, worker index: 3, curr_x_location - 0.51 and worker_new_loc 20.6 \n",
      "cycle_time is 0.19, worker index: 2, curr_x_location - 0.313 and worker_new_loc 12.68 \n",
      "cycle_time is 0.19, worker index: 1, curr_x_location - 0.097 and worker_new_loc 3.92 \n",
      "cycle_time is 0.19, worker index: 0, curr_x_location - 0.097 and worker_new_loc 4.12 \n",
      "work  0 is blocked.. \n",
      "cycle_time is 0.2, worker index: 4, curr_x_location - 1.182 and worker_new_loc 47.64 \n",
      "cycle_time is 0.2, worker index: 3, curr_x_location - 0.515 and worker_new_loc 20.8 \n",
      "cycle_time is 0.2, worker index: 2, curr_x_location - 0.317 and worker_new_loc 12.84 \n",
      "cycle_time is 0.2, worker index: 1, curr_x_location - 0.098 and worker_new_loc 3.96 \n",
      "cycle_time is 0.2, worker index: 0, curr_x_location - 0.097 and worker_new_loc 4.12 \n",
      "work  0 is blocked.. \n",
      "cycle_time is 0.21, worker index: 4, curr_x_location - 1.191 and worker_new_loc 48.0 \n",
      "cycle_time is 0.21, worker index: 3, curr_x_location - 0.52 and worker_new_loc 21.0 \n",
      "cycle_time is 0.21, worker index: 2, curr_x_location - 0.321 and worker_new_loc 13.0 \n",
      "cycle_time is 0.21, worker index: 1, curr_x_location - 0.099 and worker_new_loc 4.0 \n",
      "cycle_time is 0.21, worker index: 0, curr_x_location - 0.097 and worker_new_loc 4.12 \n",
      "cycle_time is 0.22, worker index: 4, curr_x_location - 1.2 and worker_new_loc 48.36 \n",
      "cycle_time is 0.22, worker index: 3, curr_x_location - 0.525 and worker_new_loc 21.2 \n",
      "cycle_time is 0.22, worker index: 2, curr_x_location - 0.325 and worker_new_loc 13.16 \n",
      "cycle_time is 0.22, worker index: 1, curr_x_location - 0.1 and worker_new_loc 4.04 \n",
      "cycle_time is 0.22, worker index: 0, curr_x_location - 0.103 and worker_new_loc 4.36 \n",
      "cycle_time is 0.23, worker index: 4, curr_x_location - 1.209 and worker_new_loc 48.72 \n",
      "cycle_time is 0.23, worker index: 3, curr_x_location - 0.53 and worker_new_loc 21.4 \n",
      "cycle_time is 0.23, worker index: 2, curr_x_location - 0.329 and worker_new_loc 13.32 \n",
      "cycle_time is 0.23, worker index: 1, curr_x_location - 0.101 and worker_new_loc 4.08 \n",
      "cycle_time is 0.23, worker index: 0, curr_x_location - 0.109 and worker_new_loc 4.6 \n",
      "cycle_time is 0.24, worker index: 4, curr_x_location - 1.218 and worker_new_loc 49.08 \n",
      "cycle_time is 0.24, worker index: 3, curr_x_location - 0.535 and worker_new_loc 21.6 \n",
      "cycle_time is 0.24, worker index: 2, curr_x_location - 0.333 and worker_new_loc 13.48 \n",
      "cycle_time is 0.24, worker index: 1, curr_x_location - 0.102 and worker_new_loc 4.12 \n",
      "cycle_time is 0.24, worker index: 0, curr_x_location - 0.115 and worker_new_loc 4.84 \n",
      "cycle_time is 0.25, worker index: 4, curr_x_location - 1.227 and worker_new_loc 49.44 \n",
      "cycle_time is 0.25, worker index: 3, curr_x_location - 0.54 and worker_new_loc 21.8 \n",
      "cycle_time is 0.25, worker index: 2, curr_x_location - 0.337 and worker_new_loc 13.64 \n",
      "cycle_time is 0.25, worker index: 1, curr_x_location - 0.103 and worker_new_loc 4.16 \n",
      "cycle_time is 0.25, worker index: 0, curr_x_location - 0.121 and worker_new_loc 5.08 \n",
      "work  0 is blocked.. \n",
      "cycle_time is 0.26, worker index: 4, curr_x_location - 1.236 and worker_new_loc 49.8 \n",
      "cycle_time is 0.26, worker index: 3, curr_x_location - 0.545 and worker_new_loc 22.0 \n",
      "cycle_time is 0.26, worker index: 2, curr_x_location - 0.341 and worker_new_loc 13.8 \n",
      "cycle_time is 0.26, worker index: 1, curr_x_location - 0.104 and worker_new_loc 4.2 \n",
      "cycle_time is 0.26, worker index: 0, curr_x_location - 0.121 and worker_new_loc 5.08 \n",
      "work  0 is blocked.. \n",
      "cycle_time is 0.27, worker index: 4, curr_x_location - 1.245 and worker_new_loc 50.16 \n",
      "cycle_time is 0.27, worker index: 3, curr_x_location - 0.55 and worker_new_loc 22.2 \n",
      "cycle_time is 0.27, worker index: 2, curr_x_location - 0.345 and worker_new_loc 13.96 \n",
      "cycle_time is 0.27, worker index: 1, curr_x_location - 0.105 and worker_new_loc 4.24 \n",
      "cycle_time is 0.27, worker index: 0, curr_x_location - 0.121 and worker_new_loc 5.08 \n",
      "work  0 is blocked.. \n"
     ]
    }
   ],
   "source": [
    "run_one_cycle(items_prod_line, CT)"
   ]
  },
  {
   "cell_type": "code",
   "execution_count": 10,
   "metadata": {},
   "outputs": [
    {
     "data": {
      "text/plain": [
       "1"
      ]
     },
     "execution_count": 10,
     "metadata": {},
     "output_type": "execute_result"
    }
   ],
   "source": [
    "int(1.99)"
   ]
  },
  {
   "cell_type": "code",
   "execution_count": null,
   "metadata": {},
   "outputs": [],
   "source": [
    "run_one_cycle(items_prod_line, CT)"
   ]
  },
  {
   "cell_type": "code",
   "execution_count": null,
   "metadata": {},
   "outputs": [],
   "source": [
    "w_idx = range(N_WORKERS)[::-1][1:][0]\n",
    "print w_idx\n",
    "item_d = items_prod_line[w_idx]\n",
    "item_name = item_d[ITEM_NAME]\n",
    "print \"item_name\",  item_name\n",
    "curr_x_location =  item_d[ITEM_LOC]\n",
    "print \"current x location: \", curr_x_location\n",
    "curr_work =  item_dist(curr_x_location, item_name=item_name)\n",
    "print \"current work - \", curr_work\n",
    "delta_work = get_delta_work(TIME_DELTA * WORKERS_POWER_DICT[w_idx], item_name=item_name) \n",
    "print \"delta_work\", delta_work\n",
    "print \"current work:\", curr_work + delta_work\n",
    "worker_new_loc = get_work_inverse(curr_work + delta_work, item_name=item_name)\n",
    "print \"location after progress: \", worker_new_loc"
   ]
  },
  {
   "cell_type": "code",
   "execution_count": 12,
   "metadata": {},
   "outputs": [
    {
     "name": "stdout",
     "output_type": "stream",
     "text": [
      "3.0\n",
      "1.0\n",
      "7.0\n"
     ]
    }
   ],
   "source": [
    "print item_dist(1, item_name=I1)\n",
    "print item_dist(1, item_name=I2)\n",
    "print item_dist(1, item_name=I3)"
   ]
  },
  {
   "cell_type": "code",
   "execution_count": null,
   "metadata": {},
   "outputs": [],
   "source": [
    "def run_one_cycle(items_prod_line, CT):\n",
    "    cycle_time = 0\n",
    "    # during a cycle, velocities don't change.\n",
    "    while cycle_time <= CT:\n",
    "        for w_idx in range(N_WORKERS)[::-1]:\n",
    "            #print w_idx\n",
    "            # go over all items except the last worker\n",
    "            item_d = items_prod_line[w_idx]\n",
    "            item_name = item_d[ITEM_NAME]\n",
    "            curr_x_location = item_d[ITEM_LOC] / N_PARTS\n",
    "            curr_work = item_dist(curr_x_location, item_name=item_name)\n",
    "            delta_work = get_delta_work(TIME_DELTA * WORKERS_POWER_DICT[w_idx], item_name=item_name)\n",
    "            worker_new_loc = get_work_inverse(curr_work + delta_work, item_name=item_name) * N_PARTS\n",
    "            print \"cycle_time is %s, worker index: %s, \" \\\n",
    "                  \"curr_x_location - %s and worker_new_loc %s \" % (cycle_time, w_idx, curr_x_location, worker_new_loc)\n",
    "            if w_idx == N_WORKERS-1: #last worker\n",
    "                items_prod_line[w_idx][ITEM_LOC] = worker_new_loc\n",
    "            else:\n",
    "                upstream_worker_loc = items_prod_line[w_idx+1][ITEM_LOC]\n",
    "                if int(worker_new_loc) >= upstream_worker_loc: # the stations are the integers..\n",
    "                    print \"work  %s is blocked.. \" % w_idx\n",
    "                else:\n",
    "                    items_prod_line[w_idx][ITEM_LOC] = worker_new_loc\n",
    "        cycle_time += TIME_DELTA\n"
   ]
  }
 ],
 "metadata": {
  "kernelspec": {
   "display_name": "Python 2",
   "language": "python",
   "name": "python2"
  },
  "language_info": {
   "codemirror_mode": {
    "name": "ipython",
    "version": 2
   },
   "file_extension": ".py",
   "mimetype": "text/x-python",
   "name": "python",
   "nbconvert_exporter": "python",
   "pygments_lexer": "ipython2",
   "version": "2.7.14"
  }
 },
 "nbformat": 4,
 "nbformat_minor": 2
}
