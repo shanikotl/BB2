{
 "cells": [
  {
   "cell_type": "code",
   "execution_count": 1,
   "metadata": {},
   "outputs": [
    {
     "name": "stdout",
     "output_type": "stream",
     "text": [
      "Processed 0 products so far\n",
      "n_insterted items is : 800 \n",
      "n_insterted items is : 800 and chosen_action is - I1\n",
      "n_insterted items is : 1727 \n",
      "n_insterted items is : 1727 and chosen_action is - I1\n",
      "Processed 2000 products so far\n",
      "n_insterted items is : 2295 \n",
      "n_insterted items is : 2295 and chosen_action is - I2\n",
      "Processed 4000 products so far\n",
      "n_insterted items is : 4071 \n",
      "n_insterted items is : 4071 and chosen_action is - I2\n",
      "n_insterted items is : 4417 \n",
      "n_insterted items is : 4417 and chosen_action is - I2\n",
      "n_insterted items is : 5812 \n",
      "n_insterted items is : 5812 and chosen_action is - I1\n",
      "n_insterted items is : 5989 \n",
      "n_insterted items is : 5989 and chosen_action is - I3\n",
      "Processed 6000 products so far\n",
      "n_insterted items is : 6497 \n",
      "n_insterted items is : 6497 and chosen_action is - I3\n",
      "n_insterted items is : 6522 \n",
      "n_insterted items is : 6522 and chosen_action is - I1\n",
      "n_insterted items is : 6750 \n",
      "n_insterted items is : 6750 and chosen_action is - I2\n",
      "n_insterted items is : 6945 \n",
      "n_insterted items is : 6945 and chosen_action is - I3\n",
      "Processed 8000 products so far\n",
      "n_insterted items is : 9392 \n",
      "n_insterted items is : 9392 and chosen_action is - I2\n",
      "n_insterted items is : 9870 \n",
      "n_insterted items is : 9870 and chosen_action is - I2\n",
      "Processed 10000 products so far\n",
      "n_insterted items is : 11794 \n",
      "n_insterted items is : 11794 and chosen_action is - I3\n",
      "n_insterted items is : 11887 \n",
      "n_insterted items is : 11887 and chosen_action is - I3\n",
      "Processed 12000 products so far\n",
      "-->>> Finished processing 13517 items, in total time of 17325.9357143\n",
      "-->>> Processes items: {'I1': 3923.0, 'I3': 5753.0, 'I2': 3841.0} \n",
      "hhhhhhhhhhhhhhh\n"
     ]
    }
   ],
   "source": [
    "from CONFIG import *\n",
    "from state_obj import *\n",
    "from system_dynamics import *\n",
    "from processing import *\n",
    "from visited_states import *\n",
    "%matplotlib inline"
   ]
  },
  {
   "cell_type": "code",
   "execution_count": null,
   "metadata": {},
   "outputs": [],
   "source": [
    "items_prod_line = {0: {'item_location': 1, 'item_name': 'I3'},\n",
    " 1: {'item_location': 2, 'item_name': 'I1'},\n",
    " 2: {'item_location': 36, 'item_name': 'I2'},\n",
    " 3: {'item_location': 38, 'item_name': 'I2'},\n",
    " 4: {'item_location': 40, 'item_name': 'I2'}}\n",
    "\n",
    "items_in_queue = {'I1': 167, 'I2': 375, 'I3': 555}\n",
    "a = 'I2'"
   ]
  },
  {
   "cell_type": "code",
   "execution_count": null,
   "metadata": {},
   "outputs": [],
   "source": [
    "s = State(items_prod_line, items_in_queue)"
   ]
  },
  {
   "cell_type": "code",
   "execution_count": null,
   "metadata": {},
   "outputs": [],
   "source": [
    "# for i in range(100):\n",
    "#     r = np.random.RandomState(i)\n",
    "#     print choose_action_to_move(s, method=\"weighted_rand\", policy_arr=None, r=r)[1]"
   ]
  },
  {
   "cell_type": "code",
   "execution_count": 2,
   "metadata": {},
   "outputs": [
    {
     "name": "stdout",
     "output_type": "stream",
     "text": [
      "Processed 0 products so far\n",
      "n_insterted items is : 800 \n",
      "n_insterted items is : 800 and chosen_action is - I1\n",
      "n_insterted items is : 1727 \n",
      "n_insterted items is : 1727 and chosen_action is - I1\n",
      "Processed 2000 products so far\n",
      "n_insterted items is : 2295 \n",
      "n_insterted items is : 2295 and chosen_action is - I2\n",
      "Processed 4000 products so far\n",
      "n_insterted items is : 4071 \n",
      "n_insterted items is : 4071 and chosen_action is - I2\n",
      "n_insterted items is : 4417 \n",
      "n_insterted items is : 4417 and chosen_action is - I2\n",
      "n_insterted items is : 5812 \n",
      "n_insterted items is : 5812 and chosen_action is - I1\n",
      "n_insterted items is : 5989 \n",
      "n_insterted items is : 5989 and chosen_action is - I3\n",
      "Processed 6000 products so far\n",
      "n_insterted items is : 6497 \n",
      "n_insterted items is : 6497 and chosen_action is - I3\n",
      "n_insterted items is : 6522 \n",
      "n_insterted items is : 6522 and chosen_action is - I1\n",
      "n_insterted items is : 6750 \n",
      "n_insterted items is : 6750 and chosen_action is - I2\n",
      "n_insterted items is : 6945 \n",
      "n_insterted items is : 6945 and chosen_action is - I3\n",
      "Processed 8000 products so far\n",
      "n_insterted items is : 9392 \n",
      "n_insterted items is : 9392 and chosen_action is - I2\n",
      "n_insterted items is : 9870 \n",
      "n_insterted items is : 9870 and chosen_action is - I2\n",
      "Processed 10000 products so far\n",
      "n_insterted items is : 11794 \n",
      "n_insterted items is : 11794 and chosen_action is - I3\n",
      "n_insterted items is : 11887 \n",
      "n_insterted items is : 11887 and chosen_action is - I3\n",
      "Processed 12000 products so far\n",
      "-->>> Finished processing 13517 items, in total time of 17325.9357143\n",
      "-->>> Processes items: {'I1': 3923.0, 'I3': 5753.0, 'I2': 3841.0} \n"
     ]
    }
   ],
   "source": [
    "visited_states, total_time_of_system, all_processed_items = run_episode(n_cycles=13517, policy=\"weighted_rand\")"
   ]
  },
  {
   "cell_type": "code",
   "execution_count": null,
   "metadata": {},
   "outputs": [],
   "source": [
    "\n",
    "\n",
    "a = [\"I3\", \"I2\", \"I2\", \"I3\", \"I3\", \"I3\", \"I3\", \"I1\" , \"I1\", \"I2\"]\n",
    "d = dict(Counter(a).items())\n",
    "ss = float(np.sum(d.values()))\n",
    "p1 = d[\"I1\"] / ss\n",
    "p2 = d[\"I2\"] / ss\n",
    "rr = random.random()\n",
    "if rr <= p1:\n",
    "    print 1\n",
    "elif rr <= p1 + p2:\n",
    "    print 2\n",
    "else:\n",
    "    print 3"
   ]
  },
  {
   "cell_type": "code",
   "execution_count": null,
   "metadata": {},
   "outputs": [],
   "source": [
    "#uniqu_visited_states = get_unique_states(visited_states)"
   ]
  },
  {
   "cell_type": "code",
   "execution_count": null,
   "metadata": {},
   "outputs": [],
   "source": [
    "# visited_states, total_time_of_system, all_processed_items = run_episode(n_cycles=10, policy=\"total_rand\")"
   ]
  },
  {
   "cell_type": "code",
   "execution_count": null,
   "metadata": {},
   "outputs": [],
   "source": [
    "# visited_states1, total_time_of_system1, all_processed_items1 = run_episode(n_cycles=10, policy=\"total_rand\",seed_num=2)"
   ]
  },
  {
   "cell_type": "code",
   "execution_count": null,
   "metadata": {},
   "outputs": [],
   "source": [
    "len(uniqu_visited_states)"
   ]
  },
  {
   "cell_type": "code",
   "execution_count": null,
   "metadata": {},
   "outputs": [],
   "source": [
    "[410, 590, 5098, 10000, 11053, 11193, 12714"
   ]
  },
  {
   "cell_type": "code",
   "execution_count": 17,
   "metadata": {},
   "outputs": [
    {
     "name": "stdout",
     "output_type": "stream",
     "text": [
      "[300, 1007, 2684, 8306, 8920, 9894, 10466, 11055]\n"
     ]
    }
   ],
   "source": [
    "z = visited_states[300]\n",
    "sim_states_idx = get_similar_states_idx(visited_states, z)\n",
    "print sim_states_idx"
   ]
  },
  {
   "cell_type": "code",
   "execution_count": 7,
   "metadata": {},
   "outputs": [
    {
     "data": {
      "text/plain": [
       "array([2])"
      ]
     },
     "execution_count": 7,
     "metadata": {},
     "output_type": "execute_result"
    }
   ],
   "source": [
    "np.unique([visited_states[i][3] for i in sim_states_idx])"
   ]
  },
  {
   "cell_type": "code",
   "execution_count": null,
   "metadata": {},
   "outputs": [],
   "source": [
    "np.array(visited_states)[sim_states_idx]"
   ]
  },
  {
   "cell_type": "code",
   "execution_count": null,
   "metadata": {},
   "outputs": [],
   "source": [
    "visited_states[9392]"
   ]
  },
  {
   "cell_type": "code",
   "execution_count": null,
   "metadata": {},
   "outputs": [],
   "source": [
    "z"
   ]
  },
  {
   "cell_type": "code",
   "execution_count": null,
   "metadata": {},
   "outputs": [],
   "source": [
    "import random"
   ]
  },
  {
   "cell_type": "code",
   "execution_count": null,
   "metadata": {},
   "outputs": [],
   "source": [
    "sim_states_idx"
   ]
  },
  {
   "cell_type": "code",
   "execution_count": null,
   "metadata": {},
   "outputs": [],
   "source": [
    "[visited_states[i][3] for i in sim_states_idx]"
   ]
  },
  {
   "cell_type": "code",
   "execution_count": null,
   "metadata": {},
   "outputs": [],
   "source": [
    "visited_states[sim_states_idx[1]]"
   ]
  },
  {
   "cell_type": "code",
   "execution_count": null,
   "metadata": {},
   "outputs": [],
   "source": [
    "visited_states[sim_states_idx[3]]"
   ]
  },
  {
   "cell_type": "code",
   "execution_count": null,
   "metadata": {},
   "outputs": [],
   "source": [
    "def get_unique_states(visited_states):\n",
    "    all_states_idx = range(len(visited_states))\n",
    "    taken_states = []\n",
    "    while len(all_states_idx) > 0:\n",
    "        k = all_states_idx[0]\n",
    "        z = visited_states[k]\n",
    "        sim_states_idx = get_similar_states_idx(visited_states, z)\n",
    "        all_states_idx = np.setdiff1d(all_states_idx, sim_states_idx)\n",
    "        taken_states.append(k)\n",
    "        if len(taken_states) % 500 == 0 :\n",
    "            print \"treated %s states, there are %s left\" % (len(taken_states), len(all_states_idx))\n",
    "    return taken_states"
   ]
  },
  {
   "cell_type": "code",
   "execution_count": null,
   "metadata": {},
   "outputs": [],
   "source": [
    "uniqu_visited_states = get_unique_states(visited_states)"
   ]
  }
 ],
 "metadata": {
  "kernelspec": {
   "display_name": "Python 2",
   "language": "python",
   "name": "python2"
  },
  "language_info": {
   "codemirror_mode": {
    "name": "ipython",
    "version": 2
   },
   "file_extension": ".py",
   "mimetype": "text/x-python",
   "name": "python",
   "nbconvert_exporter": "python",
   "pygments_lexer": "ipython2",
   "version": "2.7.14"
  }
 },
 "nbformat": 4,
 "nbformat_minor": 2
}
